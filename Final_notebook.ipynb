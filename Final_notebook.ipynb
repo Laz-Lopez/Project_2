{
 "cells": [
  {
   "cell_type": "code",
   "execution_count": 1,
   "id": "70d4901c-fa95-4604-a902-3a93903e9530",
   "metadata": {},
   "outputs": [],
   "source": [
    "# standard ds imports\n",
    "import numpy as np\n",
    "import pandas as pd\n",
    "import matplotlib.pyplot as plt\n",
    "\n",
    "# for statistical analysis\n",
    "import scipy.stats as stats\n",
    "\n",
    "# for visualization\n",
    "%matplotlib inline\n",
    "import matplotlib.pyplot as plt\n",
    "import seaborn as sns\n",
    "sns.set()\n",
    "\n",
    "# for wrangling\n",
    "import wrangle\n",
    "import explore\n",
    "import model\n",
    "\n",
    "# for scaling\n",
    "from sklearn.preprocessing import MinMaxScaler, StandardScaler, RobustScaler, QuantileTransformer\n",
    "\n",
    "# for feature selection verification and evaluation \n",
    "from sklearn.metrics import r2_score, mean_squared_error, explained_variance_score\n",
    "from sklearn.feature_selection import SelectKBest, RFE, f_regression, SequentialFeatureSelector\n",
    "from sklearn.linear_model import LinearRegression, LassoLars, TweedieRegressor\n",
    "from sklearn.preprocessing import PolynomialFeatures\n",
    "\n",
    "# filter out noise\n",
    "import warnings\n",
    "warnings.filterwarnings('ignore')\n",
    "\n",
    "from env import host, user, password"
   ]
  },
  {
   "cell_type": "markdown",
   "id": "5992405e-b48e-4554-9402-bec7fd0b6775",
   "metadata": {},
   "source": [
    "# Project_2\n",
    "\n",
    "## The purpose of this project is to identify key features and build a regression model to try and predict a home's tax assessed value. \n",
    "\n",
    "## The goal is to create \n",
    "### -Identify factors used to determine home value\n",
    "### -Build a model to predict home value\n",
    "### -Minimize Root Square Mean Error (RMSE) in modeling\n",
    "---"
   ]
  },
  {
   "cell_type": "markdown",
   "id": "205151b2-c05c-43a8-8a37-147760b1cc37",
   "metadata": {},
   "source": [
    "\n",
    "# Executvie Summary:\n",
    "## Goals:\n",
    "\n",
    "### -Identify factors used to determine home value\n",
    "### -Build a model to predict home value\n",
    "### -Minimize Root Square Mean Error (RMSE) in modeling\n",
    "\n",
    "## Key Findings:\n",
    "\n",
    "### Sqft plays a factor in value\n",
    "### Number of Bathroom plays a factor in Value \n",
    "### Number of Bedrooms plays a factor in Value\n",
    "\n",
    "## Takeaways:\n",
    "\n",
    "### All three base features impact Value the more that is higher the number of each feature the higher the value. \n",
    "\n",
    "\n",
    "\n",
    "## Recommendations:\n",
    " \n",
    "### Evaluate other available data to gain a more focused view of how value is assessed by adding in more features such as garage, air conditioning, and location. "
   ]
  },
  {
   "cell_type": "markdown",
   "id": "ed00f06f-8f67-4e19-bcc4-38d7536bcd86",
   "metadata": {},
   "source": [
    "---"
   ]
  },
  {
   "cell_type": "markdown",
   "id": "d1b76e1c-02d8-44e2-a7bc-408827c27ff2",
   "metadata": {},
   "source": [
    "# 1) Planning\n",
    "\n",
    "## a)Create deliverables:\n",
    "   ### - README\n",
    "   ### - final_report.ipynb\n",
    "   ### - working_report.ipynb\n",
    "\n",
    "## b) Build functional wrangle.py, explore.py, and model.py files\n",
    "\n",
    "## c) Acquire the data from the Code Up database via the wrangle.acquire functions\n",
    "\n",
    "## d) Prepare and split the data via the wrangle.prepare functions\n",
    "\n",
    "## e) Explore the data and define hypothesis. Run the appropriate statistical tests in order to accept or reject each null hypothesis. Document findings and takeaways.\n",
    "\n",
    "## f) Create a baseline model in predicting home cost and document the RSME.\n",
    "\n",
    "## g) Fit and train regression models to predict cost on the train dataset.\n",
    "\n",
    "## i) Evaluate the models by comparing the train and validation data.\n",
    "\n",
    "## j) Select the best model and evaluate it on the train data.\n",
    "\n",
    "## k) Develop and document all findings, takeaways, recommendations and next steps."
   ]
  },
  {
   "cell_type": "markdown",
   "id": "2ed18613-9fa1-42ec-8b5c-7e24214a9f19",
   "metadata": {},
   "source": [
    "---"
   ]
  },
  {
   "cell_type": "markdown",
   "id": "2fc3ae90-b6fc-4623-8160-84a4acb17448",
   "metadata": {},
   "source": [
    "# 2) Data Acquisition\n",
    "\n",
    "## In this step, I called my get_zillow_mvp function from wrangle.py. This function:\n",
    "\n",
    "### grabs the data from the CodeUp database via a SQL query"
   ]
  },
  {
   "cell_type": "markdown",
   "id": "1303ad14-6431-4edb-8644-32b91359f757",
   "metadata": {},
   "source": [
    "## <a name=\"dictionary\"></a>Data Dictionary  \n",
    "\n",
    "\n",
    "### Data Used\n",
    "---\n",
    "| Attribute | Definition | Data Type |\n",
    "| ----- | ----- | ----- |\n",
    "|Area|The Sqft of the house|int64|\n",
    "|Bathrooms| The Number of Bathrooms of the house |int64|\n",
    "|Bedrooms| The Number of Bedrooms of the house |int64 |\n",
    "|tax_value | The historical Tax Value of the house|int64|\n",
    "|Sqft|the Sqft of the house broken in to 3 sizes, <1000,<2000,>2000| object|\n",
    "\n",
    "***\n"
   ]
  },
  {
   "cell_type": "code",
   "execution_count": 2,
   "id": "e46b3f3f-4615-4f23-841c-95b2fb263994",
   "metadata": {
    "tags": []
   },
   "outputs": [],
   "source": [
    "df=wrangle.get_zillow_mvp()"
   ]
  },
  {
   "cell_type": "code",
   "execution_count": 3,
   "id": "dae19707-c84b-4cb3-9446-863121ec5193",
   "metadata": {},
   "outputs": [
    {
     "name": "stdout",
     "output_type": "stream",
     "text": [
      "<class 'pandas.core.frame.DataFrame'>\n",
      "RangeIndex: 52442 entries, 0 to 52441\n",
      "Data columns (total 4 columns):\n",
      " #   Column                        Non-Null Count  Dtype  \n",
      "---  ------                        --------------  -----  \n",
      " 0   bedroomcnt                    52442 non-null  float64\n",
      " 1   bathroomcnt                   52442 non-null  float64\n",
      " 2   calculatedfinishedsquarefeet  52360 non-null  float64\n",
      " 3   taxvaluedollarcnt             52441 non-null  float64\n",
      "dtypes: float64(4)\n",
      "memory usage: 1.6 MB\n"
     ]
    }
   ],
   "source": [
    "df.info()"
   ]
  },
  {
   "cell_type": "markdown",
   "id": "3dc819ed-46c2-458f-939a-baeffa130939",
   "metadata": {},
   "source": [
    "---\n",
    "# Acquisition Takeaways\n",
    "## The zillow data brings in 4 columns of data covering 52,442 homes.\n",
    "## These homes had transactions during 2017 and are tagged as Single Family Residences.\n",
    "---"
   ]
  },
  {
   "cell_type": "markdown",
   "id": "c59289e8-3ca9-473b-9e85-21ae29dd9b7e",
   "metadata": {},
   "source": [
    "# 3) Data Preparation\n",
    "## In this step, I called wrangle_zillow from wrangle.py. This function:\n",
    "\n",
    "### renames columns\n",
    "### handles nulls and outliers\n",
    "### splits data to train, validate, test, x_train, y_train, x_validate, y_validate, x_test, y_test\n",
    "### makes some lame graphs \n",
    "---\n"
   ]
  },
  {
   "cell_type": "code",
   "execution_count": null,
   "id": "20c1c41c-2865-4e21-b0a2-e7088f3374e5",
   "metadata": {},
   "outputs": [],
   "source": [
    "df=wrangle.wrangle_zillow(df)"
   ]
  },
  {
   "cell_type": "markdown",
   "id": "40932687-a147-4d3e-b3ba-c613d880fbf3",
   "metadata": {},
   "source": []
  },
  {
   "cell_type": "code",
   "execution_count": 5,
   "id": "1024f230-9a7d-461d-9227-148eadc82b9c",
   "metadata": {},
   "outputs": [],
   "source": [
    "train, validate, test, x_train, y_train, x_validate, y_validate, x_test, y_test=wrangle.train_validate_test(df,'tax_value')"
   ]
  },
  {
   "cell_type": "code",
   "execution_count": 6,
   "id": "0506913e-399e-4fde-8443-63d90d48d594",
   "metadata": {},
   "outputs": [
    {
     "data": {
      "image/png": "[encoded data removed]",
      "text/plain": [
       "<Figure size 1152x216 with 4 Axes>"
      ]
     },
     "metadata": {},
     "output_type": "display_data"
    },
    {
     "data": {
      "image/png": "[encoded data removed]",
      "text/plain": [
       "<Figure size 1152x216 with 4 Axes>"
      ]
     },
     "metadata": {},
     "output_type": "display_data"
    }
   ],
   "source": [
    "test=train.drop(columns=['Sqft'])\n",
    "explore.get_box(test)\n",
    "explore.get_hist(test)"
   ]
  },
  {
   "cell_type": "code",
   "execution_count": 7,
   "id": "d31bc0fc-aab8-483c-b78c-211f58b25c90",
   "metadata": {},
   "outputs": [],
   "source": [
    "cols_scale = ['bedrooms', 'bathrooms', 'area']\n",
    "\n",
    "\n",
    "train_scaled, validate_scaled, test_scaled = explore.scale_data(train, validate, test, cols_scale)\n",
    "y_train = pd.DataFrame(y_train)\n",
    "y_validate = pd.DataFrame(y_validate)\n",
    "y_test = pd.DataFrame(y_test)"
   ]
  },
  {
   "cell_type": "markdown",
   "id": "f315e23b-eed2-4e91-afd2-39228fb1e6f4",
   "metadata": {},
   "source": [
    "---\n",
    "# 4) Data Exploration\n",
    "----"
   ]
  },
  {
   "cell_type": "code",
   "execution_count": 8,
   "id": "e9312308-6337-4f5d-adae-ea2d37b70d87",
   "metadata": {},
   "outputs": [
    {
     "name": "stdout",
     "output_type": "stream",
     "text": [
      "RMSE Mean:\n",
      "248150.10218076012\n",
      "----------------\n",
      "RMSE Median:\n",
      "250857.8604903843\n"
     ]
    }
   ],
   "source": [
    "explore.get_rmse(y_train)"
   ]
  },
  {
   "cell_type": "markdown",
   "id": "a05d7a7f-faac-4ab5-9e92-16e5b68e2b02",
   "metadata": {},
   "source": [
    "---\n",
    "# Hypothesis\n",
    "\n",
    "## alpha = .05\n",
    "\n",
    "## $H_0$: Tax Value is independent of the Sqft of a home \n",
    "\n",
    "## $H_a$ : Tax Value is dependent of the Sqft of a home "
   ]
  },
  {
   "cell_type": "code",
   "execution_count": 9,
   "id": "59be9772-31ab-4860-bc8e-4e74a845150b",
   "metadata": {},
   "outputs": [
    {
     "data": {
      "image/png": "[encoded data removed]",
      "text/plain": [
       "<Figure size 864x576 with 1 Axes>"
      ]
     },
     "metadata": {},
     "output_type": "display_data"
    },
    {
     "name": "stdout",
     "output_type": "stream",
     "text": [
      "We reject the null hypothesis that The Sqft of a home and Tax Value are independent\n",
      "There is a relationship between tax value and Sqft\n",
      "P-Value 0.0\n",
      "Chi2 64338656.93\n",
      "(0.350999450994599, 0.0)\n"
     ]
    }
   ],
   "source": [
    "model.sqft_fun(train)"
   ]
  },
  {
   "cell_type": "markdown",
   "id": "aa1a093c-89be-4e56-9855-b7d9af682014",
   "metadata": {},
   "source": [
    "---\n",
    "\n",
    "# Hypothesis\n",
    "\n",
    "## alpha = .05\n",
    "\n",
    "## $H_0$: Tax Value is independent of the Number of Bedrooms of a home has\n",
    "\n",
    "## $H_a$ : Tax Value is dependent of Number of Bedrooms of a home has"
   ]
  },
  {
   "cell_type": "code",
   "execution_count": 10,
   "id": "7bb569b2-c1dd-4546-9df5-34ec49cf8062",
   "metadata": {},
   "outputs": [
    {
     "data": {
      "image/png": "[encoded data removed]",
      "text/plain": [
       "<Figure size 864x576 with 1 Axes>"
      ]
     },
     "metadata": {},
     "output_type": "display_data"
    },
    {
     "name": "stdout",
     "output_type": "stream",
     "text": [
      "We reject the null hypothesis that The Number of Bedrooms and Tax Value are independent\n",
      "There is a relationship between tax value and Number of Bedrooms\n",
      "P-Value 1.2176970740433965e-07\n",
      "Chi2 67028.65\n"
     ]
    }
   ],
   "source": [
    "model.bedroom_fun(train)"
   ]
  },
  {
   "cell_type": "markdown",
   "id": "1f1e0d80-3339-4100-81ed-9b8bafe24eac",
   "metadata": {},
   "source": [
    "---\n",
    "# Hypothesis\n",
    "\n",
    "## alpha = .05\n",
    "\n",
    "## $H_0$: Tax Value is independent of the Number of Bathrooms a home has\n",
    "\n",
    "## $H_a$ : Tax Value is dependent of Number of Bathrooms of a home has"
   ]
  },
  {
   "cell_type": "code",
   "execution_count": 11,
   "id": "c29b661e-1779-4632-8641-f1817358c657",
   "metadata": {},
   "outputs": [
    {
     "data": {
      "image/png": "[encoded data removed]",
      "text/plain": [
       "<Figure size 864x576 with 1 Axes>"
      ]
     },
     "metadata": {},
     "output_type": "display_data"
    },
    {
     "name": "stdout",
     "output_type": "stream",
     "text": [
      "We reject the null hypothesis that The Number of Bathrooms and Tax Value are independent\n",
      "There is a relationship between tax value and Number of Bathrooms\n",
      "P-Value 1.5256811413305723e-29\n",
      "Chi2 69283.82\n"
     ]
    }
   ],
   "source": [
    "model.bathroom_fun(train)"
   ]
  },
  {
   "cell_type": "markdown",
   "id": "a223d0cf-ab47-46a5-baa5-023941d64339",
   "metadata": {},
   "source": [
    "---\n",
    "# 5) Modeling\n",
    "---"
   ]
  },
  {
   "cell_type": "code",
   "execution_count": 12,
   "id": "52aa4849-929a-433c-a172-2b3b7c6b7266",
   "metadata": {},
   "outputs": [
    {
     "name": "stdout",
     "output_type": "stream",
     "text": [
      "RMSE for Lasso + Lars\n",
      "Training/In-Sample:  219234.24 \n",
      "Validation/Out-of-Sample:  217879.84\n",
      "R2 Value: 0.22\n",
      "-----------------------------------------------\n",
      "RMSE for OLS using LinearRegression\n",
      "Training/In-Sample:  219233.87 \n",
      "Validation/Out-of-Sample:  217881.69\n",
      "R2 Value: 0.22\n",
      "-----------------------------------------------\n",
      "RMSE for Polynomial Model, degrees=2\n",
      "Training/In-Sample:  219176.92 \n",
      "Validation/Out-of-Sample:  217894.86\n",
      "R2 Value: 0.22\n"
     ]
    }
   ],
   "source": [
    "\n",
    "model.evaluate_models(y_train, y_validate, x_train, x_validate, x_test)\n"
   ]
  },
  {
   "cell_type": "markdown",
   "id": "c97b9f8c-979c-4da6-bdef-a2de9a079c50",
   "metadata": {},
   "source": [
    "---\n",
    "# 6) Conclusion\n",
    "\n",
    "## Sqft plays a factor in value\n",
    "## Number of Bathroom plays a factor in Value\n",
    "## Number of Bedrooms plays a factor in Value\n",
    "___"
   ]
  },
  {
   "cell_type": "code",
   "execution_count": null,
   "id": "e340bddd-acbf-48af-b33e-7a0cc546dac3",
   "metadata": {},
   "outputs": [],
   "source": []
  },
  {
   "cell_type": "code",
   "execution_count": null,
   "id": "ee128458-7c6a-4bff-b42a-aa1578a3254d",
   "metadata": {},
   "outputs": [],
   "source": []
  },
  {
   "cell_type": "code",
   "execution_count": null,
   "id": "15d691fc-c3fe-4b87-bb8b-c51b2d764f5b",
   "metadata": {},
   "outputs": [],
   "source": []
  },
  {
   "cell_type": "code",
   "execution_count": null,
   "id": "16198ced-e613-493c-8e63-e03d2afed005",
   "metadata": {},
   "outputs": [],
   "source": []
  },
  {
   "cell_type": "code",
   "execution_count": null,
   "id": "5a5c509e-df86-4a6c-8c18-94172405d7e4",
   "metadata": {},
   "outputs": [],
   "source": []
  }
 ],
 "metadata": {
  "kernelspec": {
   "display_name": "Python 3 (ipykernel)",
   "language": "python",
   "name": "python3"
  },
  "language_info": {
   "codemirror_mode": {
    "name": "ipython",
    "version": 3
   },
   "file_extension": ".py",
   "mimetype": "text/x-python",
   "name": "python",
   "nbconvert_exporter": "python",
   "pygments_lexer": "ipython3",
   "version": "3.9.12"
  }
 },
 "nbformat": 4,
 "nbformat_minor": 5
}
